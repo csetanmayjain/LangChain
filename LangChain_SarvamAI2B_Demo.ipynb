{
  "metadata": {
    "kernelspec": {
      "display_name": "Python 3",
      "name": "python3"
    },
    "language_info": {
      "name": "python",
      "version": "3.10.14",
      "mimetype": "text/x-python",
      "codemirror_mode": {
        "name": "ipython",
        "version": 3
      },
      "pygments_lexer": "ipython3",
      "nbconvert_exporter": "python",
      "file_extension": ".py"
    },
    "kaggle": {
      "accelerator": "nvidiaTeslaT4",
      "dataSources": [],
      "dockerImageVersionId": 30762,
      "isInternetEnabled": true,
      "language": "python",
      "sourceType": "notebook",
      "isGpuEnabled": true
    },
    "colab": {
      "provenance": [],
      "gpuType": "T4",
      "include_colab_link": true
    },
    "accelerator": "GPU",
    "widgets": {
      "application/vnd.jupyter.widget-state+json": {
        "9ba74e4eb18e495a8f499705fc3487a3": {
          "model_module": "@jupyter-widgets/controls",
          "model_name": "HBoxModel",
          "model_module_version": "1.5.0",
          "state": {
            "_dom_classes": [],
            "_model_module": "@jupyter-widgets/controls",
            "_model_module_version": "1.5.0",
            "_model_name": "HBoxModel",
            "_view_count": null,
            "_view_module": "@jupyter-widgets/controls",
            "_view_module_version": "1.5.0",
            "_view_name": "HBoxView",
            "box_style": "",
            "children": [
              "IPY_MODEL_e6141642f7c04565a3652dbd7c81fb59",
              "IPY_MODEL_9a5d37cce8d04690b05e99bf0d480c77",
              "IPY_MODEL_f6dab5b963ca457a8d946740dea5baec"
            ],
            "layout": "IPY_MODEL_a73c5d83cef44bf2b40ae0b6da1452ba"
          }
        },
        "e6141642f7c04565a3652dbd7c81fb59": {
          "model_module": "@jupyter-widgets/controls",
          "model_name": "HTMLModel",
          "model_module_version": "1.5.0",
          "state": {
            "_dom_classes": [],
            "_model_module": "@jupyter-widgets/controls",
            "_model_module_version": "1.5.0",
            "_model_name": "HTMLModel",
            "_view_count": null,
            "_view_module": "@jupyter-widgets/controls",
            "_view_module_version": "1.5.0",
            "_view_name": "HTMLView",
            "description": "",
            "description_tooltip": null,
            "layout": "IPY_MODEL_33bcdca1b0ee4ebbaeb71c0459d3e690",
            "placeholder": "​",
            "style": "IPY_MODEL_38e4cdcb432140dbb1a4eb48e7d4fecf",
            "value": "Loading checkpoint shards: 100%"
          }
        },
        "9a5d37cce8d04690b05e99bf0d480c77": {
          "model_module": "@jupyter-widgets/controls",
          "model_name": "FloatProgressModel",
          "model_module_version": "1.5.0",
          "state": {
            "_dom_classes": [],
            "_model_module": "@jupyter-widgets/controls",
            "_model_module_version": "1.5.0",
            "_model_name": "FloatProgressModel",
            "_view_count": null,
            "_view_module": "@jupyter-widgets/controls",
            "_view_module_version": "1.5.0",
            "_view_name": "ProgressView",
            "bar_style": "success",
            "description": "",
            "description_tooltip": null,
            "layout": "IPY_MODEL_41b8b7ee75e34d6ba9f26e84eebc24cd",
            "max": 2,
            "min": 0,
            "orientation": "horizontal",
            "style": "IPY_MODEL_f19ea4709b9d487db3c0e6b0c874fc5a",
            "value": 2
          }
        },
        "f6dab5b963ca457a8d946740dea5baec": {
          "model_module": "@jupyter-widgets/controls",
          "model_name": "HTMLModel",
          "model_module_version": "1.5.0",
          "state": {
            "_dom_classes": [],
            "_model_module": "@jupyter-widgets/controls",
            "_model_module_version": "1.5.0",
            "_model_name": "HTMLModel",
            "_view_count": null,
            "_view_module": "@jupyter-widgets/controls",
            "_view_module_version": "1.5.0",
            "_view_name": "HTMLView",
            "description": "",
            "description_tooltip": null,
            "layout": "IPY_MODEL_5f9204959c364a3880f06c7c7e469ea6",
            "placeholder": "​",
            "style": "IPY_MODEL_24cd06af0aca4117b05575aee8eb3733",
            "value": " 2/2 [00:25&lt;00:00, 10.96s/it]"
          }
        },
        "a73c5d83cef44bf2b40ae0b6da1452ba": {
          "model_module": "@jupyter-widgets/base",
          "model_name": "LayoutModel",
          "model_module_version": "1.2.0",
          "state": {
            "_model_module": "@jupyter-widgets/base",
            "_model_module_version": "1.2.0",
            "_model_name": "LayoutModel",
            "_view_count": null,
            "_view_module": "@jupyter-widgets/base",
            "_view_module_version": "1.2.0",
            "_view_name": "LayoutView",
            "align_content": null,
            "align_items": null,
            "align_self": null,
            "border": null,
            "bottom": null,
            "display": null,
            "flex": null,
            "flex_flow": null,
            "grid_area": null,
            "grid_auto_columns": null,
            "grid_auto_flow": null,
            "grid_auto_rows": null,
            "grid_column": null,
            "grid_gap": null,
            "grid_row": null,
            "grid_template_areas": null,
            "grid_template_columns": null,
            "grid_template_rows": null,
            "height": null,
            "justify_content": null,
            "justify_items": null,
            "left": null,
            "margin": null,
            "max_height": null,
            "max_width": null,
            "min_height": null,
            "min_width": null,
            "object_fit": null,
            "object_position": null,
            "order": null,
            "overflow": null,
            "overflow_x": null,
            "overflow_y": null,
            "padding": null,
            "right": null,
            "top": null,
            "visibility": null,
            "width": null
          }
        },
        "33bcdca1b0ee4ebbaeb71c0459d3e690": {
          "model_module": "@jupyter-widgets/base",
          "model_name": "LayoutModel",
          "model_module_version": "1.2.0",
          "state": {
            "_model_module": "@jupyter-widgets/base",
            "_model_module_version": "1.2.0",
            "_model_name": "LayoutModel",
            "_view_count": null,
            "_view_module": "@jupyter-widgets/base",
            "_view_module_version": "1.2.0",
            "_view_name": "LayoutView",
            "align_content": null,
            "align_items": null,
            "align_self": null,
            "border": null,
            "bottom": null,
            "display": null,
            "flex": null,
            "flex_flow": null,
            "grid_area": null,
            "grid_auto_columns": null,
            "grid_auto_flow": null,
            "grid_auto_rows": null,
            "grid_column": null,
            "grid_gap": null,
            "grid_row": null,
            "grid_template_areas": null,
            "grid_template_columns": null,
            "grid_template_rows": null,
            "height": null,
            "justify_content": null,
            "justify_items": null,
            "left": null,
            "margin": null,
            "max_height": null,
            "max_width": null,
            "min_height": null,
            "min_width": null,
            "object_fit": null,
            "object_position": null,
            "order": null,
            "overflow": null,
            "overflow_x": null,
            "overflow_y": null,
            "padding": null,
            "right": null,
            "top": null,
            "visibility": null,
            "width": null
          }
        },
        "38e4cdcb432140dbb1a4eb48e7d4fecf": {
          "model_module": "@jupyter-widgets/controls",
          "model_name": "DescriptionStyleModel",
          "model_module_version": "1.5.0",
          "state": {
            "_model_module": "@jupyter-widgets/controls",
            "_model_module_version": "1.5.0",
            "_model_name": "DescriptionStyleModel",
            "_view_count": null,
            "_view_module": "@jupyter-widgets/base",
            "_view_module_version": "1.2.0",
            "_view_name": "StyleView",
            "description_width": ""
          }
        },
        "41b8b7ee75e34d6ba9f26e84eebc24cd": {
          "model_module": "@jupyter-widgets/base",
          "model_name": "LayoutModel",
          "model_module_version": "1.2.0",
          "state": {
            "_model_module": "@jupyter-widgets/base",
            "_model_module_version": "1.2.0",
            "_model_name": "LayoutModel",
            "_view_count": null,
            "_view_module": "@jupyter-widgets/base",
            "_view_module_version": "1.2.0",
            "_view_name": "LayoutView",
            "align_content": null,
            "align_items": null,
            "align_self": null,
            "border": null,
            "bottom": null,
            "display": null,
            "flex": null,
            "flex_flow": null,
            "grid_area": null,
            "grid_auto_columns": null,
            "grid_auto_flow": null,
            "grid_auto_rows": null,
            "grid_column": null,
            "grid_gap": null,
            "grid_row": null,
            "grid_template_areas": null,
            "grid_template_columns": null,
            "grid_template_rows": null,
            "height": null,
            "justify_content": null,
            "justify_items": null,
            "left": null,
            "margin": null,
            "max_height": null,
            "max_width": null,
            "min_height": null,
            "min_width": null,
            "object_fit": null,
            "object_position": null,
            "order": null,
            "overflow": null,
            "overflow_x": null,
            "overflow_y": null,
            "padding": null,
            "right": null,
            "top": null,
            "visibility": null,
            "width": null
          }
        },
        "f19ea4709b9d487db3c0e6b0c874fc5a": {
          "model_module": "@jupyter-widgets/controls",
          "model_name": "ProgressStyleModel",
          "model_module_version": "1.5.0",
          "state": {
            "_model_module": "@jupyter-widgets/controls",
            "_model_module_version": "1.5.0",
            "_model_name": "ProgressStyleModel",
            "_view_count": null,
            "_view_module": "@jupyter-widgets/base",
            "_view_module_version": "1.2.0",
            "_view_name": "StyleView",
            "bar_color": null,
            "description_width": ""
          }
        },
        "5f9204959c364a3880f06c7c7e469ea6": {
          "model_module": "@jupyter-widgets/base",
          "model_name": "LayoutModel",
          "model_module_version": "1.2.0",
          "state": {
            "_model_module": "@jupyter-widgets/base",
            "_model_module_version": "1.2.0",
            "_model_name": "LayoutModel",
            "_view_count": null,
            "_view_module": "@jupyter-widgets/base",
            "_view_module_version": "1.2.0",
            "_view_name": "LayoutView",
            "align_content": null,
            "align_items": null,
            "align_self": null,
            "border": null,
            "bottom": null,
            "display": null,
            "flex": null,
            "flex_flow": null,
            "grid_area": null,
            "grid_auto_columns": null,
            "grid_auto_flow": null,
            "grid_auto_rows": null,
            "grid_column": null,
            "grid_gap": null,
            "grid_row": null,
            "grid_template_areas": null,
            "grid_template_columns": null,
            "grid_template_rows": null,
            "height": null,
            "justify_content": null,
            "justify_items": null,
            "left": null,
            "margin": null,
            "max_height": null,
            "max_width": null,
            "min_height": null,
            "min_width": null,
            "object_fit": null,
            "object_position": null,
            "order": null,
            "overflow": null,
            "overflow_x": null,
            "overflow_y": null,
            "padding": null,
            "right": null,
            "top": null,
            "visibility": null,
            "width": null
          }
        },
        "24cd06af0aca4117b05575aee8eb3733": {
          "model_module": "@jupyter-widgets/controls",
          "model_name": "DescriptionStyleModel",
          "model_module_version": "1.5.0",
          "state": {
            "_model_module": "@jupyter-widgets/controls",
            "_model_module_version": "1.5.0",
            "_model_name": "DescriptionStyleModel",
            "_view_count": null,
            "_view_module": "@jupyter-widgets/base",
            "_view_module_version": "1.2.0",
            "_view_name": "StyleView",
            "description_width": ""
          }
        }
      }
    }
  },
  "nbformat_minor": 0,
  "nbformat": 4,
  "cells": [
    {
      "cell_type": "markdown",
      "metadata": {
        "id": "view-in-github",
        "colab_type": "text"
      },
      "source": [
        "<a href=\"https://colab.research.google.com/github/csetanmayjain/LangChain/blob/main/LangChain_SarvamAI2B_Demo.ipynb\" target=\"_parent\"><img src=\"https://colab.research.google.com/assets/colab-badge.svg\" alt=\"Open In Colab\"/></a>"
      ]
    },
    {
      "cell_type": "markdown",
      "source": [
        "# **LLM LangChain Demo**\n",
        "\n",
        "This project showcases the use of [LangChain](https://www.langchain.com) with the [Sarvam AI 2B-v0.5](https://huggingface.co/sarvamai/sarvam-2b-v0.5) LLM to build a Retrieval-Augmented Generation (RAG) application that fetches URLs, creates embeddings using [Google BERT multilingual uncased](https://huggingface.co/google-bert/bert-base-multilingual-uncased), and responds to user queries based on these embeddings.\n"
      ],
      "metadata": {
        "id": "NCvJGW1H6F91"
      }
    },
    {
      "cell_type": "markdown",
      "source": [
        "## Developer: Tanmay Jain\n",
        "- **Email:** csetanmayjain@gmail.com\n",
        "- **GitHub:** [github.com/csetanmayjain](https://github.com/csetanmayjain)\n",
        "- **Linkedin:** [linkedin.com/in/csetanmayjain](https://www.linkedin.com/in/csetanmayjain)"
      ],
      "metadata": {
        "id": "ZRjMNMW7BGZW"
      }
    },
    {
      "cell_type": "code",
      "source": [
        "!pip install --quiet langchain_core gradio streamlit langchain_community faiss-gpu sentence_transformers"
      ],
      "metadata": {
        "execution": {
          "iopub.status.busy": "2024-08-24T13:21:24.342697Z",
          "iopub.execute_input": "2024-08-24T13:21:24.343364Z",
          "iopub.status.idle": "2024-08-24T13:21:38.053277Z",
          "shell.execute_reply.started": "2024-08-24T13:21:24.343322Z",
          "shell.execute_reply": "2024-08-24T13:21:38.051916Z"
        },
        "trusted": true,
        "id": "PDMduvJFlxgC"
      },
      "execution_count": null,
      "outputs": []
    },
    {
      "cell_type": "code",
      "source": [
        "from langchain.document_loaders import WebBaseLoader\n",
        "from langchain.text_splitter import RecursiveCharacterTextSplitter\n",
        "from langchain_community.vectorstores import FAISS\n",
        "from langchain_community.embeddings import HuggingFaceBgeEmbeddings\n",
        "from langchain_community.llms.huggingface_pipeline import HuggingFacePipeline\n",
        "from langchain.prompts import PromptTemplate\n",
        "from langchain.chains import RetrievalQA\n",
        "import gradio\n",
        "import streamlit as st\n",
        "from huggingface_hub import login"
      ],
      "metadata": {
        "execution": {
          "iopub.status.busy": "2024-08-24T13:21:38.055868Z",
          "iopub.execute_input": "2024-08-24T13:21:38.056281Z",
          "iopub.status.idle": "2024-08-24T13:21:38.063654Z",
          "shell.execute_reply.started": "2024-08-24T13:21:38.056239Z",
          "shell.execute_reply": "2024-08-24T13:21:38.062665Z"
        },
        "trusted": true,
        "colab": {
          "base_uri": "https://localhost:8080/"
        },
        "id": "hCJlC9C0lxgG",
        "outputId": "5bb2eabd-53f4-4e81-a011-4349d51d5c64"
      },
      "execution_count": null,
      "outputs": [
        {
          "output_type": "stream",
          "name": "stderr",
          "text": [
            "WARNING:langchain_community.utils.user_agent:USER_AGENT environment variable not set, consider setting it to identify your requests.\n"
          ]
        }
      ]
    },
    {
      "cell_type": "code",
      "source": [
        "#setup hugging face token\n",
        "login(token=\"\")"
      ],
      "metadata": {
        "execution": {
          "iopub.status.busy": "2024-08-24T13:21:38.064878Z",
          "iopub.execute_input": "2024-08-24T13:21:38.065203Z",
          "iopub.status.idle": "2024-08-24T13:21:38.168494Z",
          "shell.execute_reply.started": "2024-08-24T13:21:38.065166Z",
          "shell.execute_reply": "2024-08-24T13:21:38.167338Z"
        },
        "trusted": true,
        "colab": {
          "base_uri": "https://localhost:8080/"
        },
        "id": "VCAr71uXlxgH",
        "outputId": "84be36be-f26b-4613-8d9a-fd34af943f34"
      },
      "execution_count": null,
      "outputs": [
        {
          "output_type": "stream",
          "name": "stdout",
          "text": [
            "The token has not been saved to the git credentials helper. Pass `add_to_git_credential=True` in this function directly or `--add-to-git-credential` if using via `huggingface-cli` if you want to set the git credential as well.\n",
            "Token is valid (permission: write).\n",
            "Your token has been saved to /root/.cache/huggingface/token\n",
            "Login successful\n"
          ]
        }
      ]
    },
    {
      "cell_type": "code",
      "source": [
        "def load_model():\n",
        "\n",
        "    #load embeddings for hindi\n",
        "    huggingface_embeddings_hi = HuggingFaceBgeEmbeddings(\n",
        "        model_name=\"google-bert/bert-base-multilingual-uncased\",\n",
        "        model_kwargs={'device':'cuda'},\n",
        "        encode_kwargs={'normalize_embeddings':True})\n",
        "\n",
        "    #load llm model\n",
        "    llm_hi = HuggingFacePipeline.from_model_id(\n",
        "        model_id=\"sarvamai/sarvam-2b-v0.5\",\n",
        "        task=\"text-generation\",\n",
        "        pipeline_kwargs={\"temperature\": 0.1, \"max_new_tokens\": 500},\n",
        "        device=0)\n",
        "\n",
        "    return huggingface_embeddings_hi, llm_hi"
      ],
      "metadata": {
        "execution": {
          "iopub.status.busy": "2024-08-24T13:21:38.173226Z",
          "iopub.execute_input": "2024-08-24T13:21:38.173973Z",
          "iopub.status.idle": "2024-08-24T13:21:38.181929Z",
          "shell.execute_reply.started": "2024-08-24T13:21:38.17392Z",
          "shell.execute_reply": "2024-08-24T13:21:38.180585Z"
        },
        "trusted": true,
        "id": "EMA7yFdolxgJ"
      },
      "execution_count": null,
      "outputs": []
    },
    {
      "cell_type": "code",
      "source": [
        "# prompt template\n",
        "def get_prompt():\n",
        "\n",
        "    prompt_template_hi = \"\"\"\n",
        "    पूछे गए प्रश्न का उत्तर देने के लिए निम्नलिखित संदर्भ का उपयोग करें।\n",
        "    कृपया उत्तर केवल संदर्भ के आधार पर दे।\n",
        "\n",
        "    {context}\n",
        "    प्रश्न: {question}\n",
        "\n",
        "    उत्तर:\n",
        "    \"\"\"\n",
        "\n",
        "    return prompt_template_hi"
      ],
      "metadata": {
        "execution": {
          "iopub.status.busy": "2024-08-24T13:21:38.183146Z",
          "iopub.execute_input": "2024-08-24T13:21:38.184027Z",
          "iopub.status.idle": "2024-08-24T13:21:38.195788Z",
          "shell.execute_reply.started": "2024-08-24T13:21:38.183992Z",
          "shell.execute_reply": "2024-08-24T13:21:38.194928Z"
        },
        "trusted": true,
        "id": "EW4WTYnllxgK"
      },
      "execution_count": null,
      "outputs": []
    },
    {
      "cell_type": "code",
      "source": [
        "\"\"\"\n",
        "The function loads and processes documents from a given URL,\n",
        "splits them into manageable chunks, indexes them in a FAISS vector store,\n",
        "and sets up a retrieval-based question-answering system using an LLM.\n",
        "It updates these components only when the URL changes to optimize performance.\n",
        "\"\"\"\n",
        "def get_retriever_prompt(url, huggingface_embeddings, prompt_template, llm):\n",
        "    # Initialize session state variables if they don't exist\n",
        "    if 'session_id' not in st.session_state:\n",
        "        st.session_state.session_id = 0\n",
        "        st.session_state.previous_url = None\n",
        "        st.session_state.retrievalQA = None\n",
        "\n",
        "    # Retrieve stored session state values\n",
        "    previous_url = st.session_state.previous_url\n",
        "\n",
        "    # Check if parameters have changed\n",
        "    if url != previous_url:\n",
        "\n",
        "        st.session_state.previous_url = url\n",
        "\n",
        "        # Create a WebBaseLoader instance with the URL\n",
        "        st.session_state.loader = WebBaseLoader(url)\n",
        "\n",
        "        # Load the content of the URL\n",
        "        st.session_state.documents = st.session_state.loader.load()\n",
        "\n",
        "        # Create a text splitter\n",
        "        st.session_state.text_splitter = RecursiveCharacterTextSplitter(chunk_size=1000, chunk_overlap=200)\n",
        "\n",
        "        # Split the document\n",
        "        st.session_state.split_docs = st.session_state.text_splitter.split_documents(st.session_state.documents)\n",
        "\n",
        "        # VectorStore Creation\n",
        "        st.session_state.vectorstore = FAISS.from_documents(st.session_state.split_docs, huggingface_embeddings)\n",
        "\n",
        "        st.session_state.retriever = st.session_state.vectorstore.as_retriever(search_type=\"similarity\", search_kwargs={\"k\": 3})\n",
        "\n",
        "        st.session_state.prompt = PromptTemplate(template=prompt_template, input_variables=[\"context\", \"question\"])\n",
        "\n",
        "        st.session_state.retrievalQA = RetrievalQA.from_chain_type(\n",
        "            llm=llm,\n",
        "            chain_type=\"stuff\",\n",
        "            retriever=st.session_state.retriever,\n",
        "            return_source_documents=False,\n",
        "            chain_type_kwargs={\"prompt\": st.session_state.prompt}\n",
        "        )\n",
        "    return st.session_state.retrievalQA"
      ],
      "metadata": {
        "execution": {
          "iopub.status.busy": "2024-08-24T13:21:38.23324Z",
          "iopub.execute_input": "2024-08-24T13:21:38.233594Z",
          "iopub.status.idle": "2024-08-24T13:21:38.246841Z",
          "shell.execute_reply.started": "2024-08-24T13:21:38.233555Z",
          "shell.execute_reply": "2024-08-24T13:21:38.245913Z"
        },
        "trusted": true,
        "id": "SVijBdiflxgO"
      },
      "execution_count": null,
      "outputs": []
    },
    {
      "cell_type": "code",
      "source": [
        "#loading the model into memory\n",
        "huggingface_embeddings_hi, llm_hi = load_model()\n",
        "prompt_template_hi = get_prompt()"
      ],
      "metadata": {
        "execution": {
          "iopub.status.busy": "2024-08-24T13:21:38.24838Z",
          "iopub.execute_input": "2024-08-24T13:21:38.248927Z",
          "iopub.status.idle": "2024-08-24T13:22:41.043861Z",
          "shell.execute_reply.started": "2024-08-24T13:21:38.248884Z",
          "shell.execute_reply": "2024-08-24T13:22:41.042743Z"
        },
        "trusted": true,
        "colab": {
          "base_uri": "https://localhost:8080/",
          "height": 190,
          "referenced_widgets": [
            "9ba74e4eb18e495a8f499705fc3487a3",
            "e6141642f7c04565a3652dbd7c81fb59",
            "9a5d37cce8d04690b05e99bf0d480c77",
            "f6dab5b963ca457a8d946740dea5baec",
            "a73c5d83cef44bf2b40ae0b6da1452ba",
            "33bcdca1b0ee4ebbaeb71c0459d3e690",
            "38e4cdcb432140dbb1a4eb48e7d4fecf",
            "41b8b7ee75e34d6ba9f26e84eebc24cd",
            "f19ea4709b9d487db3c0e6b0c874fc5a",
            "5f9204959c364a3880f06c7c7e469ea6",
            "24cd06af0aca4117b05575aee8eb3733"
          ]
        },
        "id": "1mJ2i8uylxgP",
        "outputId": "4250be53-4894-4fa2-d5e2-b512bad2fabc"
      },
      "execution_count": null,
      "outputs": [
        {
          "output_type": "stream",
          "name": "stderr",
          "text": [
            "/usr/local/lib/python3.10/dist-packages/huggingface_hub/utils/_token.py:89: UserWarning: \n",
            "The secret `HF_TOKEN` does not exist in your Colab secrets.\n",
            "To authenticate with the Hugging Face Hub, create a token in your settings tab (https://huggingface.co/settings/tokens), set it as secret in your Google Colab and restart your session.\n",
            "You will be able to reuse this secret in all of your notebooks.\n",
            "Please note that authentication is recommended but still optional to access public models or datasets.\n",
            "  warnings.warn(\n",
            "WARNING:sentence_transformers.SentenceTransformer:No sentence-transformers model found with name google-bert/bert-base-multilingual-uncased. Creating a new one with mean pooling.\n"
          ]
        },
        {
          "output_type": "display_data",
          "data": {
            "text/plain": [
              "Loading checkpoint shards:   0%|          | 0/2 [00:00<?, ?it/s]"
            ],
            "application/vnd.jupyter.widget-view+json": {
              "version_major": 2,
              "version_minor": 0,
              "model_id": "9ba74e4eb18e495a8f499705fc3487a3"
            }
          },
          "metadata": {}
        }
      ]
    },
    {
      "cell_type": "code",
      "source": [
        "#main driver code to call the function based on the given input\n",
        "def driver_code(url, query):\n",
        "    retrievalQA_hi = get_retriever_prompt(url, huggingface_embeddings_hi, prompt_template_hi, llm_hi)\n",
        "    result = retrievalQA_hi.invoke({\"query\": query})\n",
        "    return result['result'].split(\"उत्तर:\")[1]\n"
      ],
      "metadata": {
        "execution": {
          "iopub.status.busy": "2024-08-24T13:30:11.706281Z",
          "iopub.execute_input": "2024-08-24T13:30:11.707041Z",
          "iopub.status.idle": "2024-08-24T13:30:11.713259Z",
          "shell.execute_reply.started": "2024-08-24T13:30:11.706998Z",
          "shell.execute_reply": "2024-08-24T13:30:11.712343Z"
        },
        "trusted": true,
        "id": "vlPVFvkTlxgQ"
      },
      "execution_count": null,
      "outputs": []
    },
    {
      "cell_type": "code",
      "source": [
        "# Create the Gradio interface\n",
        "app = gr.Interface(\n",
        "    fn=driver_code,\n",
        "    inputs=[\n",
        "        gr.Textbox(label=\"Input URL\"),\n",
        "        gr.Textbox(label=\"Input Query\")\n",
        "    ],\n",
        "    outputs=gr.Textbox(label=\"Output\")\n",
        ")\n",
        "\n",
        "# Launch the app\n",
        "app.launch()"
      ],
      "metadata": {
        "colab": {
          "base_uri": "https://localhost:8080/",
          "height": 645
        },
        "id": "BQ6DR0uKq1t3",
        "outputId": "670b399f-fa3f-4aa2-bd73-9eb6f2ab9c98"
      },
      "execution_count": null,
      "outputs": [
        {
          "output_type": "stream",
          "name": "stdout",
          "text": [
            "Setting queue=True in a Colab notebook requires sharing enabled. Setting `share=True` (you can turn this off by setting `share=False` in `launch()` explicitly).\n",
            "\n",
            "Colab notebook detected. To show errors in colab notebook, set debug=True in launch()\n",
            "Running on public URL: https://e577e79979e2ec4dec.gradio.live\n",
            "\n",
            "This share link expires in 72 hours. For free permanent hosting and GPU upgrades, run `gradio deploy` from Terminal to deploy to Spaces (https://huggingface.co/spaces)\n"
          ]
        },
        {
          "output_type": "display_data",
          "data": {
            "text/plain": [
              "<IPython.core.display.HTML object>"
            ],
            "text/html": [
              "<div><iframe src=\"https://e577e79979e2ec4dec.gradio.live\" width=\"100%\" height=\"500\" allow=\"autoplay; camera; microphone; clipboard-read; clipboard-write;\" frameborder=\"0\" allowfullscreen></iframe></div>"
            ]
          },
          "metadata": {}
        },
        {
          "output_type": "execute_result",
          "data": {
            "text/plain": []
          },
          "metadata": {},
          "execution_count": 9
        }
      ]
    }
  ]
}